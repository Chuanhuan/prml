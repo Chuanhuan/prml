{
 "cells": [
  {
   "cell_type": "markdown",
   "metadata": {},
   "source": [
    "# Bayesian Linear Regression"
   ]
  },
  {
   "cell_type": "markdown",
   "metadata": {},
   "source": [
    "Suppose we are given a dataset $\\mathcal{D}=\\left\\{({\\bf x}_n, y_n)\\vert {\\bf x}_n \\in \\mathbb{R}^M, y_n\\in\\mathbb{R} \\right\\}_{n=1}^N$. Where each element $y_n$ is modelled as\n",
    "\n",
    "\n",
    "$$\n",
    "    y_n\\vert {\\bf x}_n \\sim \\mathcal{N}({\\bf w}^T{\\bf x}, \\sigma^2)\n",
    "$$\n",
    "\n",
    "Furthermore, we we assign $\\bf w$ a *prior* distribution of the form ${\\bf w}\\sim\\mathcal{N}(\\boldsymbol\\mu_0, \\boldsymbol\\Sigma_0)$. Our goal is to find the *posterior* distribution ${\\bf w}\\vert \\mathcal{D}$, i.e.,\n",
    "\n",
    "\n",
    "$$\n",
    "\\begin{aligned}\n",
    "p({\\bf w}\\vert \\mathcal{D}) &\\propto p({\\bf w})p(\\mathcal D\\vert {\\bf w})\\\\\n",
    "&= \\mathcal{N}({\\bf w}\\vert \\boldsymbol\\mu_0, \\boldsymbol\\Sigma_0) \\mathcal{N}({\\bf y} \\vert {\\bf X}{\\bf w}, \\sigma^2{\\bf I})\n",
    "\\end{aligned}\n",
    "$$\n",
    "\n",
    "To find the posterior conjugate (a closed-form solution), note that\n",
    "\n",
    "$$\n",
    "    {\\bf z}^T{\\bf A}{\\bf z} - 2{\\bf z}^T{\\bf b} + c = ({\\bf z} - {\\bf A}^{-1}{\\bf b})^T{\\bf A}({\\bf z} - {\\bf A}^{-1}{\\bf b}) - {\\bf b}^T{\\bf A}^{-1}{\\bf b} + c\n",
    "$$\n",
    "\n",
    "Then,\n",
    "$$\n",
    "\\begin{align}\n",
    "    p({\\bf w}\\vert \\mathcal{D}) &\\propto \\exp\\left(-\\frac{1}{2} ({\\bf w} - \\boldsymbol\\mu_0)^T\\Sigma_0^{-1}({\\bf w} - \\boldsymbol\\mu_0) -\\frac{1}{2\\sigma^2} ({\\bf y} - {\\bf X w})^T({\\bf y} - {\\bf X w}) \\right)\\\\\n",
    "    &= \\exp\\left(-\\frac{1}{2}\\left( ({\\bf w} - \\boldsymbol\\mu_0)^T\\Sigma_0^{-1}({\\bf w} - \\boldsymbol\\mu_0) +\\frac{1}{\\sigma^2} ({\\bf y} - {\\bf X w})^T({\\bf y} - {\\bf X w})\\right) \\right)\\\\\n",
    "    &\\propto \\exp\\left(-\\frac{1}{2}\\left[{\\bf w}^T \\left(\\boldsymbol\\Sigma_0^{-1} + \\frac{1}{\\sigma^2}{\\bf X}^T{\\bf X}\\right) - 2{\\bf w}^T \\left(\\boldsymbol\\Sigma_0^{-1}\\boldsymbol\\mu_0 + \\frac{1}{\\sigma^2}{\\bf X}^T{\\bf y}\\right) \\right]\\right)\n",
    "\\end{align}\n",
    "$$\n",
    "\n",
    "This last expression reduces to\n",
    "\n",
    "$$\n",
    "    p({\\bf w}\\vert \\mathcal{D}) \\propto \\exp\\left(-\\frac{1}{2}({\\bf w} - {\\bf m}_N)^T {\\bf S}_N^{-1} ({\\bf w} - {\\bf m}_N)\\right)\n",
    "$$\n",
    "\n",
    "Where\n",
    "* ${\\bf S}_N^{-1} = \\boldsymbol\\Sigma_0^{-1} + \\frac{1}{\\sigma^2}{\\bf X}^T{\\bf X}$\n",
    "* ${\\bf m}_N = {\\bf S}_N \\left(\\boldsymbol\\Sigma_0^{-1}\\boldsymbol\\mu_0 + \\frac{1}{\\sigma^2}{\\bf X}^T{\\bf y}\\right)$"
   ]
  },
  {
   "cell_type": "markdown",
   "metadata": {},
   "source": [
    "## Posterior Distribution"
   ]
  },
  {
   "cell_type": "code",
   "execution_count": 12,
   "metadata": {},
   "outputs": [],
   "source": [
    "# Beta is the known error term;\n",
    "# Alpha is the variance (assuming an isotropic gaussian)\n",
    "alpha, beta = sym.symbols(\"alpha beta\")\n",
    "\n",
    "S0 =  sym.Identity(3) / alpha\n",
    "m0 = sym.MatrixSymbol(\"m\", 3, 1)\n",
    "phi = sym.MatrixSymbol(\"Phi\", 5, 3)\n",
    "t = sym.MatrixSymbol(\"t\", 5, 1)"
   ]
  },
  {
   "cell_type": "code",
   "execution_count": 20,
   "metadata": {},
   "outputs": [],
   "source": [
    "Sn = S0 + (phi.T @ phi).inv() / beta\n",
    "mn = Sn @ (S0.inv() @ m0 + beta * phi.T @ t)"
   ]
  },
  {
   "cell_type": "code",
   "execution_count": 21,
   "metadata": {},
   "outputs": [
    {
     "data": {
      "image/png": "[encoded data removed]",
      "text/latex": [
       "$$\\left(\\frac{1}{\\alpha} \\mathbb{I} + \\frac{1}{\\beta} \\left(\\Phi^T \\Phi\\right)^{-1}\\right) \\left(\\alpha m + \\beta \\Phi^T t\\right)$$"
      ],
      "text/plain": [
       "⎛              -1⎞               \n",
       "⎜1     1 ⎛ T  ⎞  ⎟ ⎛         T  ⎞\n",
       "⎜─⋅I + ─⋅⎝Φ ⋅Φ⎠  ⎟⋅⎝α⋅m + β⋅Φ ⋅t⎠\n",
       "⎝α     β         ⎠               "
      ]
     },
     "execution_count": 21,
     "metadata": {},
     "output_type": "execute_result"
    }
   ],
   "source": [
    "Sn * (S0.inv() @ m0 + beta * phi.T @ t)"
   ]
  }
 ],
 "metadata": {
  "kernelspec": {
   "display_name": "Python 3",
   "language": "python",
   "name": "python3"
  },
  "language_info": {
   "codemirror_mode": {
    "name": "ipython",
    "version": 3
   },
   "file_extension": ".py",
   "mimetype": "text/x-python",
   "name": "python",
   "nbconvert_exporter": "python",
   "pygments_lexer": "ipython3",
   "version": "3.8.3"
  }
 },
 "nbformat": 4,
 "nbformat_minor": 2
}
