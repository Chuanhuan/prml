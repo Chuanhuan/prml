


import numpy as np
import matplotlib.pyplot as plt
from numpy.linalg import inv
from scipy.stats import multivariate_normal


%config InlineBackend.figure_format = "retina"
plt.rcParams["axes.spines.right"] = False
plt.rcParams["axes.spines.top"] = False
np.set_printoptions(precision=4)











np.random.seed(314)

n_obs = 20
# sigma is a known value
sigma = 0.8
x = np.linspace(-1.3, 1.7, n_obs) + np.random.rand(n_obs) * 0.1
y = 1 - 3 * x - 2 * x ** 2 + 2.5 * x ** 3 + np.random.randn(n_obs) * sigma

plt.scatter(x, y)


X = np.stack((np.ones_like(x), x, x ** 2, x ** 3), axis=1)
X


α = 1.2
m = 4
Σ0 = np.eye(m) * α
μ0 = np.zeros((m, 1))


SN_inv = inv(Σ0) + X.T @ X / sigma ** 2
SN = inv(SN_inv)

mN = SN @ (inv(Σ0) @ μ0 + X.T @ y[:, None] / sigma ** 2)
# The vector of average weights
mN


n_test = 100
xtest = np.linspace(-1.3, 1.8, n_test)
Xtest = np.stack((np.ones_like(xtest), xtest, xtest ** 2, xtest ** 3))


n_samples = 20
# We create an instance of our random vector w
w = multivariate_normal(mean=mN.ravel(), cov=SN)
w_sample = w.rvs(n_samples)


y_test_sample = np.einsum("km,mn->nk", w_sample, Xtest)

plt.plot(xtest, y_test_sample, c="tab:gray", alpha=0.5, zorder=1)
plt.scatter(x, y, c="tab:red", zorder=2)
plt.title("Posterior Samples", fontsize=15);
